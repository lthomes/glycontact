{
 "cells": [
  {
   "cell_type": "markdown",
   "id": "d8e54766-2981-4d2e-82c0-283f166606f6",
   "metadata": {},
   "source": [
    "# Analyzing lectins with bound glycans"
   ]
  },
  {
   "cell_type": "markdown",
   "id": "7a17b3d4-1fe8-456a-a8ae-d3cbab255acf",
   "metadata": {},
   "source": [
    "GlyContact can extract glycan structures from protein-glycan co-crystals. To show you how, we'll do this for the example of `3ZW1`, the complex of the bacterial lectin BambL and Lewis X. But we're getting ahead of ourselves. Let's imagine we have no idea what glycan is in this file. How do we get started?"
   ]
  },
  {
   "cell_type": "code",
   "execution_count": 2,
   "id": "9caa9b3e-d853-4074-b2cf-ab3f9bffb134",
   "metadata": {},
   "outputs": [
    {
     "name": "stdout",
     "output_type": "stream",
     "text": [
      "The autoreload extension is already loaded. To reload it, use:\n",
      "  %reload_ext autoreload\n"
     ]
    },
    {
     "data": {
      "text/plain": [
       "['Fuc(a1-3)[Gal(b1-4)]GlcNAc(b1-3)Gal', 'Fuc(a1-3)GlcNAc']"
      ]
     },
     "execution_count": 2,
     "metadata": {},
     "output_type": "execute_result"
    }
   ],
   "source": [
    "%load_ext autoreload\n",
    "%autoreload 2\n",
    "\n",
    "from glycontact.process import get_glycan_sequences_from_pdb\n",
    "\n",
    "pdb_file =\"./3ZW1.pdb\"\n",
    "\n",
    "get_glycan_sequences_from_pdb(pdb_file)"
   ]
  },
  {
   "cell_type": "markdown",
   "id": "a7b6e707-4832-4723-af1a-38986b6e8fd1",
   "metadata": {},
   "source": [
    "Got it! So this crystal structure has two glycan sequences that have been built. Not that, often, the electron density of glycans is not fully resolved, so \"fragments\", such as `Fuc(a1-3)GlcNAc` here, usually are simply the resolved portion of the larger sequence. Now that we know what we're looking for, we can extract the structure of the glycan with the `get_annotation` function and then analyze the torsion angles within this glycan with the `get_glycosidic_torsions` function"
   ]
  },
  {
   "cell_type": "code",
   "execution_count": 3,
   "id": "e634358e-d1b0-4b99-8dfd-b5bf874585a4",
   "metadata": {},
   "outputs": [
    {
     "data": {
      "text/html": [
       "<div>\n",
       "<style scoped>\n",
       "    .dataframe tbody tr th:only-of-type {\n",
       "        vertical-align: middle;\n",
       "    }\n",
       "\n",
       "    .dataframe tbody tr th {\n",
       "        vertical-align: top;\n",
       "    }\n",
       "\n",
       "    .dataframe thead th {\n",
       "        text-align: right;\n",
       "    }\n",
       "</style>\n",
       "<table border=\"1\" class=\"dataframe\">\n",
       "  <thead>\n",
       "    <tr style=\"text-align: right;\">\n",
       "      <th></th>\n",
       "      <th>linkage</th>\n",
       "      <th>phi</th>\n",
       "      <th>psi</th>\n",
       "      <th>omega</th>\n",
       "      <th>anomeric_form</th>\n",
       "      <th>position</th>\n",
       "    </tr>\n",
       "  </thead>\n",
       "  <tbody>\n",
       "    <tr>\n",
       "      <th>0</th>\n",
       "      <td>2_NAG-1_GAL</td>\n",
       "      <td>-86.40</td>\n",
       "      <td>100.06</td>\n",
       "      <td>None</td>\n",
       "      <td>b</td>\n",
       "      <td>3</td>\n",
       "    </tr>\n",
       "    <tr>\n",
       "      <th>1</th>\n",
       "      <td>3_FUC-2_NAG</td>\n",
       "      <td>-78.26</td>\n",
       "      <td>140.97</td>\n",
       "      <td>None</td>\n",
       "      <td>a</td>\n",
       "      <td>3</td>\n",
       "    </tr>\n",
       "    <tr>\n",
       "      <th>2</th>\n",
       "      <td>4_GAL-2_NAG</td>\n",
       "      <td>-84.06</td>\n",
       "      <td>-127.42</td>\n",
       "      <td>None</td>\n",
       "      <td>b</td>\n",
       "      <td>4</td>\n",
       "    </tr>\n",
       "  </tbody>\n",
       "</table>\n",
       "</div>"
      ],
      "text/plain": [
       "       linkage    phi     psi omega anomeric_form  position\n",
       "0  2_NAG-1_GAL -86.40  100.06  None             b         3\n",
       "1  3_FUC-2_NAG -78.26  140.97  None             a         3\n",
       "2  4_GAL-2_NAG -84.06 -127.42  None             b         4"
      ]
     },
     "execution_count": 3,
     "metadata": {},
     "output_type": "execute_result"
    }
   ],
   "source": [
    "from glycontact.process import get_annotation, get_glycosidic_torsions\n",
    "glycan = \"Fuc(a1-3)[Gal(b1-4)]GlcNAc(b1-3)Gal\"\n",
    "\n",
    "df, ints = get_annotation(glycan, pdb_file)\n",
    "get_glycosidic_torsions(df, ints)"
   ]
  },
  {
   "cell_type": "code",
   "execution_count": null,
   "id": "b0ca2053-518a-4ed4-8033-2a0ce1bd80b3",
   "metadata": {},
   "outputs": [],
   "source": []
  }
 ],
 "metadata": {
  "kernelspec": {
   "display_name": "Python 3 (ipykernel)",
   "language": "python",
   "name": "python3"
  },
  "language_info": {
   "codemirror_mode": {
    "name": "ipython",
    "version": 3
   },
   "file_extension": ".py",
   "mimetype": "text/x-python",
   "name": "python",
   "nbconvert_exporter": "python",
   "pygments_lexer": "ipython3",
   "version": "3.12.6"
  }
 },
 "nbformat": 4,
 "nbformat_minor": 5
}
