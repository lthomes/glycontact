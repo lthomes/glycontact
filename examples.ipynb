{
 "cells": [
  {
   "cell_type": "markdown",
   "id": "d8e54766-2981-4d2e-82c0-283f166606f6",
   "metadata": {},
   "source": [
    "# Analyzing lectins with bound glycans"
   ]
  },
  {
   "cell_type": "markdown",
   "id": "7a17b3d4-1fe8-456a-a8ae-d3cbab255acf",
   "metadata": {},
   "source": [
    "GlyContact can extract glycan structures from protein-glycan co-crystals. To show you how, we'll do this for the example of `3ZW1`, the complex of the bacterial lectin BambL and Lewis X. But we're getting ahead of ourselves. Let's imagine we have no idea what glycan is in this file. How do we get started?"
   ]
  },
  {
   "cell_type": "code",
   "execution_count": 20,
   "id": "9caa9b3e-d853-4074-b2cf-ab3f9bffb134",
   "metadata": {},
   "outputs": [
    {
     "name": "stdout",
     "output_type": "stream",
     "text": [
      "The autoreload extension is already loaded. To reload it, use:\n",
      "  %reload_ext autoreload\n"
     ]
    },
    {
     "data": {
      "text/plain": [
       "['Fuc(a1-3)[Gal(b1-4)]GlcNAc(b1-3)Gal', 'Fuc(a1-3)GlcNAc']"
      ]
     },
     "execution_count": 20,
     "metadata": {},
     "output_type": "execute_result"
    }
   ],
   "source": [
    "%load_ext autoreload\n",
    "%autoreload 2\n",
    "\n",
    "from glycontact.process import get_glycan_sequences_from_pdb\n",
    "\n",
    "pdb_file =\"./3ZW1.pdb\"\n",
    "\n",
    "get_glycan_sequences_from_pdb(pdb_file)"
   ]
  },
  {
   "cell_type": "markdown",
   "id": "a7b6e707-4832-4723-af1a-38986b6e8fd1",
   "metadata": {},
   "source": [
    "Got it! So this crystal structure has two glycan sequences that have been built. Note that, often, the electron density of glycans is not fully resolved, so \"fragments\", such as `Fuc(a1-3)GlcNAc` here, usually are simply the resolved portion of the larger sequence `Fuc(a1-3)[Gal(b1-4)]GlcNAc(b1-3)Gal`. Now that we know what we're looking for, we can extract the structure of the glycan with the `get_annotation` function and then analyze the torsion angles within this glycan with the `get_glycosidic_torsions` function"
   ]
  },
  {
   "cell_type": "code",
   "execution_count": 21,
   "id": "e634358e-d1b0-4b99-8dfd-b5bf874585a4",
   "metadata": {},
   "outputs": [
    {
     "data": {
      "text/html": [
       "<div>\n",
       "<style scoped>\n",
       "    .dataframe tbody tr th:only-of-type {\n",
       "        vertical-align: middle;\n",
       "    }\n",
       "\n",
       "    .dataframe tbody tr th {\n",
       "        vertical-align: top;\n",
       "    }\n",
       "\n",
       "    .dataframe thead th {\n",
       "        text-align: right;\n",
       "    }\n",
       "</style>\n",
       "<table border=\"1\" class=\"dataframe\">\n",
       "  <thead>\n",
       "    <tr style=\"text-align: right;\">\n",
       "      <th></th>\n",
       "      <th>linkage</th>\n",
       "      <th>phi</th>\n",
       "      <th>psi</th>\n",
       "      <th>omega</th>\n",
       "      <th>anomeric_form</th>\n",
       "      <th>position</th>\n",
       "    </tr>\n",
       "  </thead>\n",
       "  <tbody>\n",
       "    <tr>\n",
       "      <th>0</th>\n",
       "      <td>2_NAG-1_GAL</td>\n",
       "      <td>-86.40</td>\n",
       "      <td>100.06</td>\n",
       "      <td>NaN</td>\n",
       "      <td>b</td>\n",
       "      <td>3</td>\n",
       "    </tr>\n",
       "    <tr>\n",
       "      <th>1</th>\n",
       "      <td>3_FUC-2_NAG</td>\n",
       "      <td>-78.26</td>\n",
       "      <td>140.97</td>\n",
       "      <td>NaN</td>\n",
       "      <td>a</td>\n",
       "      <td>3</td>\n",
       "    </tr>\n",
       "    <tr>\n",
       "      <th>2</th>\n",
       "      <td>4_GAL-2_NAG</td>\n",
       "      <td>-84.06</td>\n",
       "      <td>-127.42</td>\n",
       "      <td>NaN</td>\n",
       "      <td>b</td>\n",
       "      <td>4</td>\n",
       "    </tr>\n",
       "  </tbody>\n",
       "</table>\n",
       "</div>"
      ],
      "text/plain": [
       "       linkage    phi     psi  omega anomeric_form  position\n",
       "0  2_NAG-1_GAL -86.40  100.06    NaN             b         3\n",
       "1  3_FUC-2_NAG -78.26  140.97    NaN             a         3\n",
       "2  4_GAL-2_NAG -84.06 -127.42    NaN             b         4"
      ]
     },
     "execution_count": 21,
     "metadata": {},
     "output_type": "execute_result"
    }
   ],
   "source": [
    "from glycontact.process import get_annotation, get_glycosidic_torsions\n",
    "glycan = \"Fuc(a1-3)[Gal(b1-4)]GlcNAc(b1-3)Gal\"\n",
    "\n",
    "df, ints = get_annotation(glycan, pdb_file)\n",
    "get_glycosidic_torsions(df, ints)"
   ]
  },
  {
   "cell_type": "markdown",
   "id": "213d1b4f-c293-45ab-af86-4ef8e0aa1ef0",
   "metadata": {},
   "source": [
    "# Analyzing glycosylated proteins"
   ]
  },
  {
   "cell_type": "code",
   "execution_count": 27,
   "id": "b0ca2053-518a-4ed4-8033-2a0ce1bd80b3",
   "metadata": {},
   "outputs": [
    {
     "data": {
      "text/plain": [
       "['Man(b1-4)GlcNAc(b1-4)GlcNAc',\n",
       " 'GlcNAc(b1-4)GlcNAc',\n",
       " 'Man(a1-3)[Man(a1-6)]Man(b1-4)GlcNAc(b1-4)GlcNAc',\n",
       " 'GlcNAc',\n",
       " 'Man(a1-6)Man(a1-6)Man(b1-4)GlcNAc(b1-4)GlcNAc']"
      ]
     },
     "execution_count": 27,
     "metadata": {},
     "output_type": "execute_result"
    }
   ],
   "source": [
    "pdb_file = \"./7T6X.pdb\"\n",
    "get_glycan_sequences_from_pdb(pdb_file)"
   ]
  },
  {
   "cell_type": "code",
   "execution_count": 22,
   "id": "b47137d2-81b5-4fbf-bed5-ec86d3559b2b",
   "metadata": {},
   "outputs": [
    {
     "data": {
      "text/html": [
       "<div>\n",
       "<style scoped>\n",
       "    .dataframe tbody tr th:only-of-type {\n",
       "        vertical-align: middle;\n",
       "    }\n",
       "\n",
       "    .dataframe tbody tr th {\n",
       "        vertical-align: top;\n",
       "    }\n",
       "\n",
       "    .dataframe thead th {\n",
       "        text-align: right;\n",
       "    }\n",
       "</style>\n",
       "<table border=\"1\" class=\"dataframe\">\n",
       "  <thead>\n",
       "    <tr style=\"text-align: right;\">\n",
       "      <th></th>\n",
       "      <th>linkage</th>\n",
       "      <th>phi</th>\n",
       "      <th>psi</th>\n",
       "      <th>omega</th>\n",
       "      <th>anomeric_form</th>\n",
       "      <th>position</th>\n",
       "    </tr>\n",
       "  </thead>\n",
       "  <tbody>\n",
       "    <tr>\n",
       "      <th>0</th>\n",
       "      <td>2_NAG-1_NAG</td>\n",
       "      <td>-80.85</td>\n",
       "      <td>-120.60</td>\n",
       "      <td>NaN</td>\n",
       "      <td>b</td>\n",
       "      <td>4</td>\n",
       "    </tr>\n",
       "    <tr>\n",
       "      <th>1</th>\n",
       "      <td>3_BMA-2_NAG</td>\n",
       "      <td>-82.62</td>\n",
       "      <td>-121.97</td>\n",
       "      <td>NaN</td>\n",
       "      <td>b</td>\n",
       "      <td>4</td>\n",
       "    </tr>\n",
       "    <tr>\n",
       "      <th>2</th>\n",
       "      <td>4_MAN-3_BMA</td>\n",
       "      <td>71.33</td>\n",
       "      <td>138.26</td>\n",
       "      <td>NaN</td>\n",
       "      <td>a</td>\n",
       "      <td>3</td>\n",
       "    </tr>\n",
       "    <tr>\n",
       "      <th>3</th>\n",
       "      <td>5_MAN-3_BMA</td>\n",
       "      <td>92.63</td>\n",
       "      <td>-157.50</td>\n",
       "      <td>-51.99</td>\n",
       "      <td>a</td>\n",
       "      <td>6</td>\n",
       "    </tr>\n",
       "  </tbody>\n",
       "</table>\n",
       "</div>"
      ],
      "text/plain": [
       "       linkage    phi     psi  omega anomeric_form  position\n",
       "0  2_NAG-1_NAG -80.85 -120.60    NaN             b         4\n",
       "1  3_BMA-2_NAG -82.62 -121.97    NaN             b         4\n",
       "2  4_MAN-3_BMA  71.33  138.26    NaN             a         3\n",
       "3  5_MAN-3_BMA  92.63 -157.50 -51.99             a         6"
      ]
     },
     "execution_count": 22,
     "metadata": {},
     "output_type": "execute_result"
    }
   ],
   "source": [
    "df, ints = get_annotation(\"Man(a1-3)[Man(a1-6)]Man(b1-4)GlcNAc(b1-4)GlcNAc\", pdb_file)\n",
    "get_glycosidic_torsions(df, ints)"
   ]
  },
  {
   "cell_type": "code",
   "execution_count": 29,
   "id": "30fad429-fd2a-4d4b-aa9a-fab7209c96bd",
   "metadata": {},
   "outputs": [
    {
     "name": "stderr",
     "output_type": "stream",
     "text": [
      "C:\\Users\\Daniel\\AppData\\Local\\Programs\\Python\\Python312\\Lib\\site-packages\\mdtraj\\formats\\pdb\\pdbfile.py:206: UserWarning: Unlikely unit cell vectors detected in PDB file likely resulting from a dummy CRYST1 record. Discarding unit cell vectors.\n",
      "  warnings.warn(\n"
     ]
    },
    {
     "data": {
      "text/html": [
       "<div>\n",
       "<style scoped>\n",
       "    .dataframe tbody tr th:only-of-type {\n",
       "        vertical-align: middle;\n",
       "    }\n",
       "\n",
       "    .dataframe tbody tr th {\n",
       "        vertical-align: top;\n",
       "    }\n",
       "\n",
       "    .dataframe thead th {\n",
       "        text-align: right;\n",
       "    }\n",
       "</style>\n",
       "<table border=\"1\" class=\"dataframe\">\n",
       "  <thead>\n",
       "    <tr style=\"text-align: right;\">\n",
       "      <th></th>\n",
       "      <th>Monosaccharide_id</th>\n",
       "      <th>Monosaccharide</th>\n",
       "      <th>SASA</th>\n",
       "      <th>Standard Deviation</th>\n",
       "      <th>Coefficient of Variation</th>\n",
       "      <th>flexibility</th>\n",
       "      <th>torsion_flexibility</th>\n",
       "    </tr>\n",
       "  </thead>\n",
       "  <tbody>\n",
       "    <tr>\n",
       "      <th>0</th>\n",
       "      <td>1</td>\n",
       "      <td>GlcNAc(b1-1)</td>\n",
       "      <td>294.705612</td>\n",
       "      <td>NaN</td>\n",
       "      <td>NaN</td>\n",
       "      <td>1.714320</td>\n",
       "      <td>NaN</td>\n",
       "    </tr>\n",
       "    <tr>\n",
       "      <th>1</th>\n",
       "      <td>2</td>\n",
       "      <td>GlcNAc(b1-4)</td>\n",
       "      <td>231.883071</td>\n",
       "      <td>NaN</td>\n",
       "      <td>NaN</td>\n",
       "      <td>1.978299</td>\n",
       "      <td>NaN</td>\n",
       "    </tr>\n",
       "    <tr>\n",
       "      <th>2</th>\n",
       "      <td>3</td>\n",
       "      <td>Man(b1-4)</td>\n",
       "      <td>109.338062</td>\n",
       "      <td>NaN</td>\n",
       "      <td>NaN</td>\n",
       "      <td>2.570273</td>\n",
       "      <td>NaN</td>\n",
       "    </tr>\n",
       "    <tr>\n",
       "      <th>3</th>\n",
       "      <td>4</td>\n",
       "      <td>Man(a1-3)</td>\n",
       "      <td>234.063838</td>\n",
       "      <td>NaN</td>\n",
       "      <td>NaN</td>\n",
       "      <td>2.633248</td>\n",
       "      <td>NaN</td>\n",
       "    </tr>\n",
       "    <tr>\n",
       "      <th>4</th>\n",
       "      <td>5</td>\n",
       "      <td>Man(a1-6)</td>\n",
       "      <td>240.003828</td>\n",
       "      <td>NaN</td>\n",
       "      <td>NaN</td>\n",
       "      <td>2.796275</td>\n",
       "      <td>NaN</td>\n",
       "    </tr>\n",
       "  </tbody>\n",
       "</table>\n",
       "</div>"
      ],
      "text/plain": [
       "   Monosaccharide_id Monosaccharide        SASA  Standard Deviation  \\\n",
       "0                  1   GlcNAc(b1-1)  294.705612                 NaN   \n",
       "1                  2   GlcNAc(b1-4)  231.883071                 NaN   \n",
       "2                  3      Man(b1-4)  109.338062                 NaN   \n",
       "3                  4      Man(a1-3)  234.063838                 NaN   \n",
       "4                  5      Man(a1-6)  240.003828                 NaN   \n",
       "\n",
       "   Coefficient of Variation  flexibility  torsion_flexibility  \n",
       "0                       NaN     1.714320                  NaN  \n",
       "1                       NaN     1.978299                  NaN  \n",
       "2                       NaN     2.570273                  NaN  \n",
       "3                       NaN     2.633248                  NaN  \n",
       "4                       NaN     2.796275                  NaN  "
      ]
     },
     "execution_count": 29,
     "metadata": {},
     "output_type": "execute_result"
    }
   ],
   "source": [
    "from glycontact.process import compute_merge_SASA_flexibility\n",
    "compute_merge_SASA_flexibility(\"Man(a1-3)[Man(a1-6)]Man(b1-4)GlcNAc(b1-4)GlcNAc\", my_path = pdb_file)"
   ]
  },
  {
   "cell_type": "code",
   "execution_count": null,
   "id": "e35d5160-2ac7-4163-90e1-bbdecc1e4847",
   "metadata": {},
   "outputs": [],
   "source": []
  }
 ],
 "metadata": {
  "kernelspec": {
   "display_name": "Python 3 (ipykernel)",
   "language": "python",
   "name": "python3"
  },
  "language_info": {
   "codemirror_mode": {
    "name": "ipython",
    "version": 3
   },
   "file_extension": ".py",
   "mimetype": "text/x-python",
   "name": "python",
   "nbconvert_exporter": "python",
   "pygments_lexer": "ipython3",
   "version": "3.12.6"
  }
 },
 "nbformat": 4,
 "nbformat_minor": 5
}
